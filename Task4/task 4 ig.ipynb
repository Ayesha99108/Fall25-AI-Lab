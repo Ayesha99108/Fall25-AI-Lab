{
 "cells": [
  {
   "cell_type": "markdown",
   "id": "3146baba",
   "metadata": {},
   "source": [
    "# LUHN Algorithm"
   ]
  },
  {
   "cell_type": "code",
   "execution_count": null,
   "id": "f8d8398c",
   "metadata": {},
   "outputs": [
    {
     "name": "stdout",
     "output_type": "stream",
     "text": [
      "=== Welcome to the Credit Card Checker! ===\n",
      "Unfortunately, this card number is INVALID according to the Luhn Algorithm.\n"
     ]
    }
   ],
   "source": [
    "def validate_credit_card(card_number):\n",
    "    digits = [int(d) for d in str(card_number)]\n",
    "    total_sum = 0\n",
    "\n",
    "    for index, digit in enumerate(digits):\n",
    "        if index % 2 == 1:\n",
    "            doubled = digit * 2\n",
    "            if doubled > 9:\n",
    "                doubled -= 9\n",
    "            total_sum += doubled\n",
    "        else:\n",
    "            total_sum += digit\n",
    "\n",
    "    return total_sum % 10 == 0\n",
    "\n",
    "print(\"=== Welcome to the Credit Card Checker! ===\")\n",
    "card_number = input(\"Please type in the card number you'd like to validate: \")\n",
    "\n",
    "if not card_number.isdigit():\n",
    "    print(\"Oopsie!Enter only digits with no spaces or letters.\")\n",
    "else:\n",
    "    if validate_credit_card(card_number):\n",
    "        print(\"Good!This card number is VALID according to the Luhn Algorithm.\")\n",
    "    else:\n",
    "        print(\"This card number is INVALID according to the Luhn Algorithm.\")"
   ]
  },
  {
   "cell_type": "markdown",
   "id": "9422fce7",
   "metadata": {},
   "source": [
    "# Punctuation algorithm"
   ]
  },
  {
   "cell_type": "code",
   "execution_count": null,
   "id": "8bb83547",
   "metadata": {},
   "outputs": [
    {
     "name": "stdout",
     "output_type": "stream",
     "text": [
      "You entered:  sp(e<n.d t@@i%m$e w...ith f;rie%nd!s\n",
      "Now, here's the text without punctuation:  spend time with friends\n"
     ]
    }
   ],
   "source": [
    "Sentence = input(\"Enter your sentence\")\n",
    "\n",
    "result_text = \"\"\n",
    "\n",
    "for char in Sentence:\n",
    "    ascii_code = ord(char)\n",
    "    if (65 <= ascii_code <= 90) or (97 <= ascii_code <= 122) or (48 <= ascii_code <= 57) or ascii_code == 32:\n",
    "        result_text += char\n",
    "\n",
    "print(\"You entered: \", Sentence)\n",
    "print(\"Now, here's the text without punctuation: \", result_text)"
   ]
  },
  {
   "cell_type": "markdown",
   "id": "17b54767",
   "metadata": {},
   "source": [
    "# ASCII alphabet order\n"
   ]
  },
  {
   "cell_type": "code",
   "execution_count": 3,
   "id": "5c1704e8",
   "metadata": {},
   "outputs": [
    {
     "name": "stdout",
     "output_type": "stream",
     "text": [
      "Before: Here is a text\n",
      "After : a Here is text\n"
     ]
    }
   ],
   "source": [
    "sentence = input(\"Type a sentence: \")\n",
    "\n",
    "words = sentence.split()\n",
    "sorted_words = sorted(words, key=str.lower)\n",
    "\n",
    "print(\"Before:\", sentence)\n",
    "print(\"After :\", \" \".join(sorted_words))\n"
   ]
  }
 ],
 "metadata": {
  "kernelspec": {
   "display_name": "base",
   "language": "python",
   "name": "python3"
  },
  "language_info": {
   "codemirror_mode": {
    "name": "ipython",
    "version": 3
   },
   "file_extension": ".py",
   "mimetype": "text/x-python",
   "name": "python",
   "nbconvert_exporter": "python",
   "pygments_lexer": "ipython3",
   "version": "3.12.4"
  }
 },
 "nbformat": 4,
 "nbformat_minor": 5
}
