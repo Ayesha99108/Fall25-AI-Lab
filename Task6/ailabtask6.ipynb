{
 "cells": [
  {
   "cell_type": "markdown",
   "id": "55e1bf41",
   "metadata": {},
   "source": [
    "## Task 6"
   ]
  },
  {
   "cell_type": "markdown",
   "id": "4d416429",
   "metadata": {},
   "source": [
    "## BFS using Queue"
   ]
  },
  {
   "cell_type": "code",
   "execution_count": 8,
   "id": "9a81dc8a",
   "metadata": {},
   "outputs": [
    {
     "name": "stdout",
     "output_type": "stream",
     "text": [
      "This is BFS using queue: 0 1 2 3 \n"
     ]
    }
   ],
   "source": [
    "import collections\n",
    "\n",
    "def bfs_with_queue(graph, root):\n",
    "    visited, queue = set(), collections.deque([root])\n",
    "    visited.add(root)\n",
    "\n",
    "    print(\"This is BFS using queue: \", end=\"\")\n",
    "\n",
    "    while queue:\n",
    "        vrtx = queue.popleft() \n",
    "        print(str(vrtx) + \" \", end=\"\")\n",
    "\n",
    "        for neighbour in graph[vrtx]:\n",
    "            if neighbour not in visited:\n",
    "                visited.add(neighbour)\n",
    "                queue.append(neighbour)\n",
    "    print()\n",
    "\n",
    "graph = {0: [1, 2], 1: [2], 2: [3], 3: [1, 2]}\n",
    "bfs_with_queue(graph, 0)\n"
   ]
  },
  {
   "cell_type": "markdown",
   "id": "b1b4e978",
   "metadata": {},
   "source": [
    "## BFS without Queue"
   ]
  },
  {
   "cell_type": "code",
   "execution_count": 7,
   "id": "4e2249d3",
   "metadata": {},
   "outputs": [
    {
     "name": "stdout",
     "output_type": "stream",
     "text": [
      "This is BFS without queue: 0 1 2 3 \n"
     ]
    }
   ],
   "source": [
    "\n",
    "def bfs_without_queue(graph, root):\n",
    "    visited = set()\n",
    "    queue = [root] \n",
    "    visited.add(root)\n",
    "\n",
    "    print(\"This is BFS without queue: \", end=\"\")\n",
    "\n",
    "    while queue:\n",
    "        vrtx = queue.pop(0) \n",
    "        print(str(vrtx) + \" \", end=\"\")\n",
    "\n",
    "        for neighbour in graph[vrtx]:\n",
    "            if neighbour not in visited:\n",
    "                visited.add(neighbour)\n",
    "                queue.append(neighbour)\n",
    "    print()\n",
    "\n",
    "graph = {0: [1, 2], 1: [2], 2: [3], 3: [1, 2]}\n",
    "bfs_without_queue(graph, 0)\n"
   ]
  }
 ],
 "metadata": {
  "kernelspec": {
   "display_name": "base",
   "language": "python",
   "name": "python3"
  },
  "language_info": {
   "codemirror_mode": {
    "name": "ipython",
    "version": 3
   },
   "file_extension": ".py",
   "mimetype": "text/x-python",
   "name": "python",
   "nbconvert_exporter": "python",
   "pygments_lexer": "ipython3",
   "version": "3.12.4"
  }
 },
 "nbformat": 4,
 "nbformat_minor": 5
}
