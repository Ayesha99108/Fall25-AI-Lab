{
 "cells": [
  {
   "cell_type": "markdown",
   "id": "035facdb",
   "metadata": {},
   "source": [
    "## Task 5"
   ]
  },
  {
   "cell_type": "code",
   "execution_count": 7,
   "id": "3c203e86",
   "metadata": {},
   "outputs": [
    {
     "name": "stdout",
     "output_type": "stream",
     "text": [
      "4\n",
      "5\n",
      "7\n",
      "8\n",
      "6\n"
     ]
    },
    {
     "data": {
      "text/plain": [
       "['4', '5', '7', '8', '6']"
      ]
     },
     "execution_count": 7,
     "metadata": {},
     "output_type": "execute_result"
    }
   ],
   "source": [
    "\n",
    "graph = {\n",
    "    '4': ['5', '6'],\n",
    "    '5': ['4', '7', '8'],\n",
    "    '6': ['4'],\n",
    "    '7': ['5'],\n",
    "    '8': ['6', '7']\n",
    "}\n",
    "\n",
    "def dfs_stack(graph, start):\n",
    "    visited = []        \n",
    "    stack = [start]     \n",
    "\n",
    "    while stack:\n",
    "        vertex = stack.pop() \n",
    "        if vertex not in visited:\n",
    "            visited.append(vertex)  \n",
    "            print(vertex)           \n",
    "            for neighbor in reversed(graph[vertex]):\n",
    "                if neighbor not in visited:\n",
    "                    stack.append(neighbor)\n",
    "    return visited\n",
    "\n",
    "dfs_stack(graph, '4')\n"
   ]
  },
  {
   "cell_type": "markdown",
   "id": "268af6ff",
   "metadata": {},
   "source": [
    "### DFS Tree Traversals (Preorder, Inorder, Postorder)\n",
    "## 1. Preorder (Root → Left → Right)\n",
    "\n",
    "First  visit the root first, then the left subtree, and finally the right subtree.\n",
    "\n",
    "This traversal is useful when we want to copy the tree.\n",
    "\n",
    "## 2. Inorder (Left → Root → Right)\n",
    "\n",
    "First traverse the left subtree, then visit the root, and finally traverse the right subtree.\n",
    "\n",
    "In binary search trees, this traversal gives the nodes in sorted order.\n",
    "\n",
    "## 3. Postorder (Left → Right → Root)\n",
    "\n",
    "Traverse the left subtree, then the right subtree, and finally visit the root.\n",
    "\n",
    "This traversal is helpful when we want to delete or free nodes."
   ]
  },
  {
   "cell_type": "code",
   "execution_count": 2,
   "id": "c43ca9f5",
   "metadata": {},
   "outputs": [
    {
     "name": "stdout",
     "output_type": "stream",
     "text": [
      "Preorder: L M O P N Q \n",
      "Inorder: O M P L N Q \n",
      "Postorder: O P M Q N L "
     ]
    }
   ],
   "source": [
    "\n",
    "tree = {\n",
    "    'L': {'left': 'M', 'right': 'N'},\n",
    "    'M': {'left': 'O', 'right': 'P'},\n",
    "    'N': {'left': None, 'right': 'Q'},\n",
    "    'O': {'left': None, 'right': None},\n",
    "    'P': {'left': None, 'right': None},\n",
    "    'Q': {'left': None, 'right': None}\n",
    "}\n",
    "\n",
    "def preorder(root):\n",
    "    if root:\n",
    "        print(root, end=\" \")\n",
    "        preorder(tree[root]['left'])\n",
    "        preorder(tree[root]['right'])\n",
    "\n",
    "def inorder(root):\n",
    "    if root:\n",
    "        inorder(tree[root]['left'])\n",
    "        print(root, end=\" \")\n",
    "        inorder(tree[root]['right'])\n",
    "\n",
    "def postorder(root):\n",
    "    if root:\n",
    "        postorder(tree[root]['left'])\n",
    "        postorder(tree[root]['right'])\n",
    "        print(root, end=\" \")\n",
    "\n",
    "print(\"Preorder:\", end=\" \")\n",
    "preorder('L')\n",
    "print(\"\\nInorder:\", end=\" \")\n",
    "inorder('L')\n",
    "print(\"\\nPostorder:\", end=\" \")\n",
    "postorder('L')\n"
   ]
  }
 ],
 "metadata": {
  "kernelspec": {
   "display_name": "base",
   "language": "python",
   "name": "python3"
  },
  "language_info": {
   "codemirror_mode": {
    "name": "ipython",
    "version": 3
   },
   "file_extension": ".py",
   "mimetype": "text/x-python",
   "name": "python",
   "nbconvert_exporter": "python",
   "pygments_lexer": "ipython3",
   "version": "3.12.4"
  }
 },
 "nbformat": 4,
 "nbformat_minor": 5
}
