{
 "cells": [
  {
   "cell_type": "markdown",
   "id": "6ad8ae0d",
   "metadata": {},
   "source": [
    "AI LAB TASK 2\n",
    "\n",
    "Name: AYESHA SIKANDAR\n",
    "\n",
    "Roll NO. 044\n",
    "\n",
    "Section: BSDS 3A"
   ]
  },
  {
   "cell_type": "markdown",
   "id": "4e1c7abd",
   "metadata": {},
   "source": [
    "**QUESTION .1**"
   ]
  },
  {
   "cell_type": "code",
   "execution_count": null,
   "id": "37ac4e21",
   "metadata": {},
   "outputs": [],
   "source": [
    "movies = [\n",
    "    (\"Eternal Sunshine of the Spotless Mind\", 20000000),\n",
    "    (\"Memento\", 9000000),\n",
    "    (\"Requiem for a Dream\", 4500000),\n",
    "    (\"Pirates of the Caribbean: On Stranger Tides\", 379000000),\n",
    "    (\"Avengers: Age of Ultron\", 365000000),\n",
    "    (\"Avengers: Endgame\", 356000000),\n",
    "    (\"Incredibles 2\", 200000000)\n",
    "]\n",
    "m = int(input(\"how many movies do you want to add? \"))\n",
    "\n",
    "for i in range(m):\n",
    "    title = input(\"Enter the movie title: \")\n",
    "    budget = int(input(\"Enter the movie budget: \"))\n",
    "    movies.append((title, budget))\n",
    "    print(movies)\n",
    "\n",
    "\n",
    "high_budget_movies = [] \n",
    "total_budget = 0\n",
    "for n in movies:\n",
    "    total_budget = total_budget + n[1]\n",
    "    print(\"total_budget =\", total_budget)\n",
    "\n",
    "average_budget = total_budget / len(movies)\n",
    "print(\"average_budget =\", average_budget)\n",
    "\n",
    "over_avg_count = 0\n",
    "\n",
    "for n in movies:\n",
    "    if n[1] > average_budget:\n",
    "        print(n[0], \"had a budget above average.\")\n",
    "        \n",
    "        over_avg_count += 1\n",
    "        over_avg_cost = n[1] - average_budget\n",
    "        print(\"It was over budget by\", over_avg_cost)\n",
    "        print(\"There were\", over_avg_count, \"movies with above average budgets.\")"
   ]
  },
  {
   "cell_type": "markdown",
   "id": "697f43b3",
   "metadata": {},
   "source": [
    "**QUESTION .2**"
   ]
  },
  {
   "cell_type": "code",
   "execution_count": 1,
   "id": "0b70df09",
   "metadata": {},
   "outputs": [
    {
     "name": "stdout",
     "output_type": "stream",
     "text": [
      "The FizzBuzz Game\n",
      "Computer Number: 35 \n",
      "Correct...\n",
      "(Score is: 1)\n",
      "Computer Number: 3 \n",
      "Correct...\n",
      "(Score is: 2)\n",
      "Computer Number: 15 \n",
      "Correct...\n",
      "(Score is: 3)\n",
      "Computer Number: 11 \n",
      "Correct...\n",
      "(Score is: 4)\n",
      "Computer Number: 36 \n",
      "Wrong...\n",
      "The Correct answer is: buzz\n",
      "Game Over\n",
      "The final Score is: 4\n"
     ]
    }
   ],
   "source": [
    "import random\n",
    "\n",
    "print(\"The FizzBuzz Game\")\n",
    "last_num= 0\n",
    "score= 0\n",
    "\n",
    "for num in range(1, 61):\n",
    "    current_num = random.randint(1, 40)\n",
    "    print(f\"Computer Number: {current_num} \")\n",
    "    total = last_num + current_num\n",
    "\n",
    "    if total % 3== 0 and total % 5== 0:\n",
    "        correct = \"fizzbuzz\"\n",
    "    elif total % 3== 0:\n",
    "        correct = \"fizz\"\n",
    "    elif total % 5== 0:\n",
    "        correct = \"buzz\"\n",
    "    else:\n",
    "        correct = str(total)\n",
    "\n",
    "    user = input(\"Your guess is: \").strip().lower()\n",
    "\n",
    "    if user == correct:\n",
    "        print(\"Correct...\")\n",
    "        score += 1\n",
    "        print(f\"(Score is: {score})\")\n",
    "    else:\n",
    "        print(\"Wrong...\")\n",
    "        print(f\"The Correct answer is: {correct}\")\n",
    "        print(\"Game Over\")\n",
    "        break\n",
    "\n",
    "    last_num = total\n",
    "print(f\"The final Score is: {score}\")\n"
   ]
  }
 ],
 "metadata": {
  "kernelspec": {
   "display_name": "base",
   "language": "python",
   "name": "python3"
  },
  "language_info": {
   "codemirror_mode": {
    "name": "ipython",
    "version": 3
   },
   "file_extension": ".py",
   "mimetype": "text/x-python",
   "name": "python",
   "nbconvert_exporter": "python",
   "pygments_lexer": "ipython3",
   "version": "3.12.4"
  }
 },
 "nbformat": 4,
 "nbformat_minor": 5
}
